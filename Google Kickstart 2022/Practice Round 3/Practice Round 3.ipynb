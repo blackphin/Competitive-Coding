{
 "cells": [
  {
   "cell_type": "code",
   "execution_count": 1,
   "metadata": {},
   "outputs": [
    {
     "name": "stdout",
     "output_type": "stream",
     "text": [
      "['3', '4', '5']\n"
     ]
    }
   ],
   "source": [
    "n=int(input())\n",
    "for x in range (1,n+1):\n",
    "    m=int(input())\n",
    "    list1=input().split(\" \")\n",
    "    for y in range (0,l):\n",
    "        for z in range (0,y):\n",
    "            \n",
    "    "
   ]
  }
 ],
 "metadata": {
  "kernelspec": {
   "display_name": "Python 3.10.5 ('venv_selenium': venv)",
   "language": "python",
   "name": "python3"
  },
  "language_info": {
   "codemirror_mode": {
    "name": "ipython",
    "version": 3
   },
   "file_extension": ".py",
   "mimetype": "text/x-python",
   "name": "python",
   "nbconvert_exporter": "python",
   "pygments_lexer": "ipython3",
   "version": "3.10.5"
  },
  "orig_nbformat": 4,
  "vscode": {
   "interpreter": {
    "hash": "8fcc3160a57ae2281824311efda404216dd868292f73382717bd77ab49039191"
   }
  }
 },
 "nbformat": 4,
 "nbformat_minor": 2
}
