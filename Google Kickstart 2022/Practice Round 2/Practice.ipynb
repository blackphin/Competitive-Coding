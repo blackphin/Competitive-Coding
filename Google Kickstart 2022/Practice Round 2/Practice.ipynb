{
 "cells": [
  {
   "cell_type": "code",
   "execution_count": 11,
   "metadata": {},
   "outputs": [
    {
     "name": "stdout",
     "output_type": "stream",
     "text": [
      "Case #1: 1\n",
      "Case #2: 5\n"
     ]
    }
   ],
   "source": [
    "n=int(input())\n",
    "for x in range (1,n+1):\n",
    "    n,m = list(map(int, (input().split())))\n",
    "    candy=list(map(int, input().split()))\n",
    "    print(f\"Case #{x}: {sum(candy)%m}\")"
   ]
  },
  {
   "cell_type": "code",
   "execution_count": null,
   "metadata": {},
   "outputs": [],
   "source": [
    "import itertools\n",
    "\n",
    "n=int(input())\n",
    "for x in range (1,n+1):\n",
    "    answer=0\n",
    "    n,q = list(map(int, (input().split())))\n",
    "    string=list(str(input()))\n",
    "    for y in range (q):\n",
    "        l,r = list(map(int, (input().split())))\n",
    "        l-=1\n",
    "        question=string[l:r]\n",
    "        demo=list(itertools.permutations(question,r-l))\n",
    "        demo = list(set(demo))\n",
    "        for z1 in demo:\n",
    "            z2=tuple(reversed(z1))\n",
    "            if z1==z2:\n",
    "                answer+=1\n",
    "                break\n",
    "    print(f\"Case #{x}: {answer}\")"
   ]
  },
  {
   "cell_type": "code",
   "execution_count": 15,
   "metadata": {},
   "outputs": [
    {
     "name": "stdout",
     "output_type": "stream",
     "text": [
      "Case #1: 7\n"
     ]
    }
   ],
   "source": [
    "import itertools\n",
    "n=int(input())\n",
    "for x in range (1,n+1):\n",
    "    sub=[]\n",
    "    l,r=list(map(int, input().split()))\n",
    "    answer=0\n",
    "    if l<r:\n",
    "        for y in range(l):\n",
    "            sub.append(\"()\")\n",
    "        for z in range (1,l+1):\n",
    "            demo=list(itertools.combinations(sub,z))\n",
    "            answer+=len(demo)\n",
    "    else:\n",
    "        for y in range(r):\n",
    "            sub.append(\"()\")\n",
    "        for z in range (1,l+1):\n",
    "            demo=list(itertools.combinations(sub,z))\n",
    "            answer+=len(demo)\n",
    "    print(f\"Case #{x}: {answer}\")"
   ]
  }
 ],
 "metadata": {
  "kernelspec": {
   "display_name": "Python 3.10.5 ('venv_selenium': venv)",
   "language": "python",
   "name": "python3"
  },
  "language_info": {
   "codemirror_mode": {
    "name": "ipython",
    "version": 3
   },
   "file_extension": ".py",
   "mimetype": "text/x-python",
   "name": "python",
   "nbconvert_exporter": "python",
   "pygments_lexer": "ipython3",
   "version": "3.10.5"
  },
  "orig_nbformat": 4,
  "vscode": {
   "interpreter": {
    "hash": "8fcc3160a57ae2281824311efda404216dd868292f73382717bd77ab49039191"
   }
  }
 },
 "nbformat": 4,
 "nbformat_minor": 2
}
