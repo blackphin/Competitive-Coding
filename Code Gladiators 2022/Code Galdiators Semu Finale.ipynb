{
 "cells": [
  {
   "cell_type": "code",
   "execution_count": null,
   "metadata": {},
   "outputs": [],
   "source": [
    "n=int(input())\n",
    "alloted=0\n",
    "sequential=0\n",
    "while alloted<n:\n",
    "  sequential+=1\n",
    "  check=str(sequential)\n",
    "  if (check.find(\"2\") == -1 and check.find(\"14\")==-1):\n",
    "    alloted+=1\n",
    "print(sequential)"
   ]
  },
  {
   "cell_type": "code",
   "execution_count": 26,
   "metadata": {},
   "outputs": [
    {
     "name": "stdout",
     "output_type": "stream",
     "text": [
      "Y\n"
     ]
    }
   ],
   "source": [
    "def binarySearch(arr, l, r, x):\n",
    "    while l <= r:\n",
    "        mid = l + (r - l) // 2\n",
    "        if arr[mid] == x:\n",
    "            return mid\n",
    "        elif arr[mid] < x:\n",
    "            l = mid + 1\n",
    "        else:\n",
    "            r = mid - 1\n",
    "    return -1\n",
    "\n",
    "s,t,q = list(map(int, (input().split())))\n",
    "booked_list=[]\n",
    "for x in range (t):\n",
    "    booked_list.append(int(input()))\n",
    "    \n",
    "booked_list.sort()\n",
    "if q!=0:\n",
    "     for y in range (q):\n",
    "         z=int(input())\n",
    "         if t==0:\n",
    "             print(\"Y\")\n",
    "         else:\n",
    "             if (binarySearch(booked_list,0,t-1,z)!=-1):\n",
    "                 print(\"N\")\n",
    "             else:\n",
    "                 print(\"Y\")"
   ]
  }
 ],
 "metadata": {
  "kernelspec": {
   "display_name": "Python 3.10.5 ('venv_selenium': venv)",
   "language": "python",
   "name": "python3"
  },
  "language_info": {
   "codemirror_mode": {
    "name": "ipython",
    "version": 3
   },
   "file_extension": ".py",
   "mimetype": "text/x-python",
   "name": "python",
   "nbconvert_exporter": "python",
   "pygments_lexer": "ipython3",
   "version": "3.10.5"
  },
  "orig_nbformat": 4,
  "vscode": {
   "interpreter": {
    "hash": "8fcc3160a57ae2281824311efda404216dd868292f73382717bd77ab49039191"
   }
  }
 },
 "nbformat": 4,
 "nbformat_minor": 2
}
